{
 "cells": [
  {
   "cell_type": "markdown",
   "metadata": {},
   "source": [
    "# Inferência"
   ]
  },
  {
   "cell_type": "markdown",
   "metadata": {},
   "source": [
    "<div style=\"text-align:justify\">\n",
    "Este notebook carrega os modelos treinados e aplica sobre novos dados.\n",
    "</div>"
   ]
  },
  {
   "cell_type": "markdown",
   "metadata": {},
   "source": [
    "### Carregando Pacotes"
   ]
  },
  {
   "cell_type": "code",
   "execution_count": 1,
   "metadata": {},
   "outputs": [],
   "source": [
    "import warnings, pandas, joblib"
   ]
  },
  {
   "cell_type": "markdown",
   "metadata": {},
   "source": [
    "### Configurações"
   ]
  },
  {
   "cell_type": "code",
   "execution_count": 2,
   "metadata": {},
   "outputs": [],
   "source": [
    "warnings.filterwarnings(action='ignore')\n",
    "pandas.set_option('display.max_colwidth', 60)"
   ]
  },
  {
   "cell_type": "markdown",
   "metadata": {},
   "source": [
    "### Dataset"
   ]
  },
  {
   "cell_type": "code",
   "execution_count": 3,
   "metadata": {},
   "outputs": [
    {
     "data": {
      "text/html": [
       "<div>\n",
       "<style scoped>\n",
       "    .dataframe tbody tr th:only-of-type {\n",
       "        vertical-align: middle;\n",
       "    }\n",
       "\n",
       "    .dataframe tbody tr th {\n",
       "        vertical-align: top;\n",
       "    }\n",
       "\n",
       "    .dataframe thead th {\n",
       "        text-align: right;\n",
       "    }\n",
       "</style>\n",
       "<table border=\"1\" class=\"dataframe\">\n",
       "  <thead>\n",
       "    <tr style=\"text-align: right;\">\n",
       "      <th></th>\n",
       "      <th>review</th>\n",
       "      <th>label</th>\n",
       "    </tr>\n",
       "  </thead>\n",
       "  <tbody>\n",
       "    <tr>\n",
       "      <th>0</th>\n",
       "      <td>tem 7 meses q uso cartao e o limite nunca aumentapedi pa...</td>\n",
       "      <td>Limite de crédito</td>\n",
       "    </tr>\n",
       "    <tr>\n",
       "      <th>1</th>\n",
       "      <td>fiz um deposito na minha conta mas nao aparece meu saldo...</td>\n",
       "      <td>Depósito demora</td>\n",
       "    </tr>\n",
       "    <tr>\n",
       "      <th>2</th>\n",
       "      <td>simplesmente um lixo</td>\n",
       "      <td>Comentário detrator sem informação</td>\n",
       "    </tr>\n",
       "    <tr>\n",
       "      <th>3</th>\n",
       "      <td>ajuste de valor r 60000 nao depositarei mais nenhum cent...</td>\n",
       "      <td>Outro</td>\n",
       "    </tr>\n",
       "    <tr>\n",
       "      <th>4</th>\n",
       "      <td>nao consigo acessar minha conta o suporte nao me ajuda</td>\n",
       "      <td>Problema de acesso</td>\n",
       "    </tr>\n",
       "  </tbody>\n",
       "</table>\n",
       "</div>"
      ],
      "text/plain": [
       "                                                        review  \\\n",
       "0  tem 7 meses q uso cartao e o limite nunca aumentapedi pa...   \n",
       "1  fiz um deposito na minha conta mas nao aparece meu saldo...   \n",
       "2                                         simplesmente um lixo   \n",
       "3  ajuste de valor r 60000 nao depositarei mais nenhum cent...   \n",
       "4       nao consigo acessar minha conta o suporte nao me ajuda   \n",
       "\n",
       "                                label  \n",
       "0                   Limite de crédito  \n",
       "1                     Depósito demora  \n",
       "2  Comentário detrator sem informação  \n",
       "3                               Outro  \n",
       "4                  Problema de acesso  "
      ]
     },
     "execution_count": 3,
     "metadata": {},
     "output_type": "execute_result"
    }
   ],
   "source": [
    "df = pandas.read_csv('datasets/reviews.csv')\n",
    "df = df[~df['category'].isna()]\n",
    "df = df.rename(columns={'trusted': 'review', 'category': 'label'})\n",
    "\n",
    "df.head()"
   ]
  },
  {
   "cell_type": "markdown",
   "metadata": {},
   "source": [
    "### Carregar Modelos Treinados"
   ]
  },
  {
   "cell_type": "code",
   "execution_count": 4,
   "metadata": {},
   "outputs": [],
   "source": [
    "vectorizer = joblib.load('models/vectorizer')\n",
    "classifier = joblib.load('models/classifier')"
   ]
  },
  {
   "cell_type": "markdown",
   "metadata": {},
   "source": [
    "### Aplicar Predição"
   ]
  },
  {
   "cell_type": "code",
   "execution_count": 5,
   "metadata": {},
   "outputs": [
    {
     "data": {
      "text/html": [
       "<div>\n",
       "<style scoped>\n",
       "    .dataframe tbody tr th:only-of-type {\n",
       "        vertical-align: middle;\n",
       "    }\n",
       "\n",
       "    .dataframe tbody tr th {\n",
       "        vertical-align: top;\n",
       "    }\n",
       "\n",
       "    .dataframe thead th {\n",
       "        text-align: right;\n",
       "    }\n",
       "</style>\n",
       "<table border=\"1\" class=\"dataframe\">\n",
       "  <thead>\n",
       "    <tr style=\"text-align: right;\">\n",
       "      <th></th>\n",
       "      <th>review</th>\n",
       "      <th>label</th>\n",
       "      <th>predict</th>\n",
       "    </tr>\n",
       "  </thead>\n",
       "  <tbody>\n",
       "    <tr>\n",
       "      <th>0</th>\n",
       "      <td>tem 7 meses q uso cartao e o limite nunca aumentapedi pa...</td>\n",
       "      <td>Limite de crédito</td>\n",
       "      <td>Limite de crédito</td>\n",
       "    </tr>\n",
       "    <tr>\n",
       "      <th>1</th>\n",
       "      <td>fiz um deposito na minha conta mas nao aparece meu saldo...</td>\n",
       "      <td>Depósito demora</td>\n",
       "      <td>Depósito demora</td>\n",
       "    </tr>\n",
       "    <tr>\n",
       "      <th>2</th>\n",
       "      <td>simplesmente um lixo</td>\n",
       "      <td>Comentário detrator sem informação</td>\n",
       "      <td>Comentário detrator sem informação</td>\n",
       "    </tr>\n",
       "    <tr>\n",
       "      <th>3</th>\n",
       "      <td>ajuste de valor r 60000 nao depositarei mais nenhum cent...</td>\n",
       "      <td>Outro</td>\n",
       "      <td>Outro</td>\n",
       "    </tr>\n",
       "    <tr>\n",
       "      <th>4</th>\n",
       "      <td>nao consigo acessar minha conta o suporte nao me ajuda</td>\n",
       "      <td>Problema de acesso</td>\n",
       "      <td>Problema de acesso</td>\n",
       "    </tr>\n",
       "  </tbody>\n",
       "</table>\n",
       "</div>"
      ],
      "text/plain": [
       "                                                        review  \\\n",
       "0  tem 7 meses q uso cartao e o limite nunca aumentapedi pa...   \n",
       "1  fiz um deposito na minha conta mas nao aparece meu saldo...   \n",
       "2                                         simplesmente um lixo   \n",
       "3  ajuste de valor r 60000 nao depositarei mais nenhum cent...   \n",
       "4       nao consigo acessar minha conta o suporte nao me ajuda   \n",
       "\n",
       "                                label                             predict  \n",
       "0                   Limite de crédito                   Limite de crédito  \n",
       "1                     Depósito demora                     Depósito demora  \n",
       "2  Comentário detrator sem informação  Comentário detrator sem informação  \n",
       "3                               Outro                               Outro  \n",
       "4                  Problema de acesso                  Problema de acesso  "
      ]
     },
     "execution_count": 5,
     "metadata": {},
     "output_type": "execute_result"
    }
   ],
   "source": [
    "documents = vectorizer.transform(df['review'].values)\n",
    "df['predict'] = classifier.predict(documents)\n",
    "\n",
    "df.head()"
   ]
  },
  {
   "cell_type": "markdown",
   "metadata": {},
   "source": [
    "### Testando - Texto Sintético"
   ]
  },
  {
   "cell_type": "code",
   "execution_count": 16,
   "metadata": {},
   "outputs": [
    {
     "data": {
      "text/plain": [
       "<1x976 sparse matrix of type '<class 'numpy.float64'>'\n",
       "\twith 9 stored elements in Compressed Sparse Row format>"
      ]
     },
     "execution_count": 16,
     "metadata": {},
     "output_type": "execute_result"
    }
   ],
   "source": [
    "# tem que limpar o texto antes\n",
    "texto = 'fiz um deposito e nao recebi o dinheiro'\n",
    "\n",
    "# vetorizando documento\n",
    "X_vec = vectorizer.transform([texto])\n",
    "X_vec"
   ]
  },
  {
   "cell_type": "code",
   "execution_count": 17,
   "metadata": {},
   "outputs": [
    {
     "data": {
      "text/plain": [
       "array(['Depósito demora'], dtype='<U34')"
      ]
     },
     "execution_count": 17,
     "metadata": {},
     "output_type": "execute_result"
    }
   ],
   "source": [
    "classifier.predict(X_vec)"
   ]
  }
 ],
 "metadata": {
  "kernelspec": {
   "display_name": "Python 3",
   "language": "python",
   "name": "python3"
  },
  "language_info": {
   "codemirror_mode": {
    "name": "ipython",
    "version": 3
   },
   "file_extension": ".py",
   "mimetype": "text/x-python",
   "name": "python",
   "nbconvert_exporter": "python",
   "pygments_lexer": "ipython3",
   "version": "3.8.5"
  }
 },
 "nbformat": 4,
 "nbformat_minor": 4
}
