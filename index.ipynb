{
 "cells": [
  {
   "cell_type": "markdown",
   "metadata": {},
   "source": [
    "## Guilda da Dados"
   ]
  },
  {
   "cell_type": "markdown",
   "metadata": {},
   "source": [
    "<div style=\"text-align:justify\">\n",
    "Este material apresenta conceitos elementares e básicos sobre aprendizado de máquina. O objetivo aqui é explorar de maneira simplificada a tarefa de classificação e tratar modelagens triviais, mas que cobrem grande parte das necessidades do dia a dia.\n",
    "</div>"
   ]
  },
  {
   "cell_type": "markdown",
   "metadata": {},
   "source": [
    "### Tarefas"
   ]
  },
  {
   "cell_type": "markdown",
   "metadata": {},
   "source": [
    "<div style=\"text-align:justify\">\n",
    "É considerada uma <code>tarefa</code> de machine learning o tipo de abordagem dada ao problema que se pretende modelar. Cada abordagem lida um tipo de problema e necessita de algoritmos específicos. Neste encontro vamos tratar apenas da tarefa de <code>Classificação</code>, muito embora existem outras tarefas comumente utilizadas.\n",
    "</div>\n",
    "\n",
    "Veja as mais comuns:"
   ]
  },
  {
   "cell_type": "markdown",
   "metadata": {},
   "source": [
    "- <b>Classificação</b>\n",
    "- Agrupamento\n",
    "- Regressão"
   ]
  },
  {
   "cell_type": "markdown",
   "metadata": {},
   "source": [
    "### Utilização"
   ]
  },
  {
   "cell_type": "markdown",
   "metadata": {},
   "source": [
    "<div style=\"text-align:justify\">\n",
    "O uso de machine learning se dá quando existe clareza sobre o problema a ser resolvido. Essa clareza é fundamental para a modelagem da solução e a mensuração dos resultados. Todo modelo deve ser avaliado seguindo critérios bem estabelecidos.\n",
    "</div>"
   ]
  },
  {
   "cell_type": "markdown",
   "metadata": {},
   "source": [
    "### Prática"
   ]
  },
  {
   "cell_type": "markdown",
   "metadata": {},
   "source": [
    "- [Descritores](descriptors.ipynb)\n",
    "- [Redes Neurais Artificiais - Fundamentos](nn.ipynb)\n",
    "- [Redes Neurais Artificiais - Scikit-Learn](nn_sklearn.ipynb)\n",
    "- [Classificação de Texto](text_classifier.ipynb)\n",
    "- [Inferência](inference.ipynb)"
   ]
  }
 ],
 "metadata": {
  "kernelspec": {
   "display_name": "Python 3",
   "language": "python",
   "name": "python3"
  },
  "language_info": {
   "codemirror_mode": {
    "name": "ipython",
    "version": 3
   },
   "file_extension": ".py",
   "mimetype": "text/x-python",
   "name": "python",
   "nbconvert_exporter": "python",
   "pygments_lexer": "ipython3",
   "version": "3.8.5"
  }
 },
 "nbformat": 4,
 "nbformat_minor": 4
}
