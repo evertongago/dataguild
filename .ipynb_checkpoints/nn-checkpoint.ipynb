{
 "cells": [
  {
   "cell_type": "markdown",
   "metadata": {},
   "source": [
    "# Redes Neurais Artificiais - Fundamentos"
   ]
  },
  {
   "cell_type": "markdown",
   "metadata": {},
   "source": [
    "### Carregando Pacotes"
   ]
  },
  {
   "cell_type": "code",
   "execution_count": 1,
   "metadata": {},
   "outputs": [],
   "source": [
    "%matplotlib inline\n",
    "\n",
    "import pandas, numpy\n",
    "import matplotlib.pyplot as plt\n",
    "from mlxtend.plotting import plot_decision_regions\n",
    "from time import time\n",
    "\n",
    "plt.rcParams['figure.figsize'] = [15, 7]"
   ]
  },
  {
   "cell_type": "markdown",
   "metadata": {},
   "source": [
    "### Representação Gráfica"
   ]
  },
  {
   "cell_type": "code",
   "execution_count": 2,
   "metadata": {},
   "outputs": [
    {
     "data": {
      "text/html": [
       "<img src=\"images/Perceptron01.png\"/>"
      ],
      "text/plain": [
       "<IPython.core.display.Image object>"
      ]
     },
     "execution_count": 2,
     "metadata": {},
     "output_type": "execute_result"
    }
   ],
   "source": [
    "from IPython.display import Image\n",
    "Image(url = 'images/Perceptron01.png')"
   ]
  },
  {
   "cell_type": "markdown",
   "metadata": {},
   "source": [
    "### Ajuste da Reta - Problema de Minimização"
   ]
  },
  {
   "cell_type": "markdown",
   "metadata": {},
   "source": [
    "<div style=\"text-align: justify\">\n",
    "Dado um conjunto de $m$ pontos rotulados $(x_i,y_i)$ (conjunto de treinamento), queremos encontrar uma equação linear de predição do valor de $y$ dado um $x$ desconhecido. A equação da predição $\\hat{y}$, na forma:\n",
    "<br>\n",
    "<br>\n",
    "$ \\hat{y} = w_0 + w_1\\ x $ \n",
    "<br>\n",
    "<br>\n",
    "Deve ter seus parâmetros $w_0$ e $w_1$ escolhidos de modo que o erro médio quadrático\n",
    "<br>\n",
    "<br>\n",
    "$ \\sum (\\hat{y_i} - y_i)^2 $ entre as estimativas e o valor das amostras $i$ seja mínimo.\n",
    "</div>"
   ]
  },
  {
   "cell_type": "markdown",
   "metadata": {},
   "source": [
    "### Função Custo ou Função de Perda"
   ]
  },
  {
   "cell_type": "markdown",
   "metadata": {},
   "source": [
    "A função de custo depende do conjunto de treinamento ($y_i$) e dos valores de predição ($\\hat{y_i}$):\n",
    "\n",
    "$$ J(\\hat{y_i},y_i) = \\frac{1}{M} \\sum_{i=0}^{M-1} (\\hat{y_i} - y_i)^2 $$ .\n",
    "\n",
    "Trocando $\\hat{y_i}$ pelo valor da predição, a função de custo depende das amostras de treinamento $x_i, y_i$ e \n",
    "do parâmetro de predição $w_i$:\n",
    "\n",
    "$$ J(x_i,y_i,w_i) = \\frac{1}{M} \\sum_{i=0}^{M-1} ((w_0 + w_1\\ x_i) - y_i)^2 $$ \n",
    "\n",
    "Buscamos encontrar os valores de $w_i$ para que $J(x_i,y_i,w_i)$ seja mínimo no conjunto de treinamento ($x_i, y_i$)."
   ]
  },
  {
   "cell_type": "markdown",
   "metadata": {},
   "source": [
    "Em notação matricial, o cálculo do custo para $M$ amostras fica:\n",
    "\n",
    "$$ \\mathbf{e} = \\hat{\\mathbf{y}} - \\mathbf{y} = \\mathbf{X} \\mathbf{w}^T - \\mathbf{y} $$\n",
    "\n",
    "$$ J(\\mathbf{w}) = \\frac{1}{M} \\left \\Vert \\mathbf{e} \\right \\|^2 $$\n",
    "\n",
    "onde $\\left \\Vert \\textbf{e} \\right \\|^2$ é a norma do vetor $\\textbf{e}$ ao quadrado, dado por:\n",
    "$\\left \\Vert \\textbf{e} \\right \\|^2 = \\sum_{i}{\\textbf{e}_i}^2$\n",
    "\n",
    "A seguir é mostrado uma implementação matricial desta função:"
   ]
  },
  {
   "cell_type": "markdown",
   "metadata": {},
   "source": [
    "### Formulação Matricial"
   ]
  },
  {
   "cell_type": "markdown",
   "metadata": {},
   "source": [
    "Caso de apenas um $w^T = \\begin{bmatrix} w_0 \\\\ w_1\\end{bmatrix}$ com shape(2,1):\n",
    "\n",
    "$$ \\begin{matrix}\n",
    "e &=& \\begin{bmatrix}\n",
    "1 & x_0 \\\\ \n",
    "1 & x_1 \\\\\n",
    "1 & x_2 \\\\\n",
    "\\vdots & \\vdots \\\\\n",
    "1 & x_{M-1}\n",
    "\\end{bmatrix} &\n",
    "\\begin{bmatrix}\n",
    "w_0\\\\ \n",
    "w_1\n",
    "\\end{bmatrix} &-& \\begin{bmatrix}\n",
    "y_0\\\\ \n",
    "y_1\\\\ \n",
    "\\vdots\\\\ \n",
    "y_{M-1}\\\\ \n",
    "\\end{bmatrix} &=& \\begin{bmatrix}\n",
    "e_0\\\\ \n",
    "e_1\\\\ \n",
    "\\vdots\\\\ \n",
    "e_{M-1}\\\\ \n",
    "\\end{bmatrix}\\\\\n",
    "& & (M,2) & (2,1) & & (M,1) & & (M,1)\n",
    " \\end{matrix} $$ \n",
    "\n",
    "$$ J = \\frac{1}{M}\\sum_{i=0}^{M-1} e_i^2 $$"
   ]
  },
  {
   "cell_type": "code",
   "execution_count": 3,
   "metadata": {},
   "outputs": [
    {
     "data": {
      "text/html": [
       "<img src=\"images/Gradiente01.png\"/>"
      ],
      "text/plain": [
       "<IPython.core.display.Image object>"
      ]
     },
     "execution_count": 3,
     "metadata": {},
     "output_type": "execute_result"
    }
   ],
   "source": [
    "from IPython.display import Image\n",
    "Image(url = 'images/Gradiente01.png')"
   ]
  },
  {
   "cell_type": "markdown",
   "metadata": {},
   "source": [
    "### Gradiente da Função de Custo"
   ]
  },
  {
   "cell_type": "markdown",
   "metadata": {},
   "source": [
    "O gradiente da função Custo ($\\mathbf{\\nabla{J_w}}$) para este caso onde \n",
    "$\\mathbf{w}=\\begin{bmatrix}w_0 & w_1\\end{bmatrix}$ é um vetor de derivadas partiais:\n",
    "\n",
    "$$ \\mathbf{\\nabla{J_w}} = \\begin{bmatrix} \\frac{\\partial J}{\\partial w_0} & \\frac{\\partial J}{\\partial w_1}\\end{bmatrix} $$"
   ]
  },
  {
   "cell_type": "markdown",
   "metadata": {},
   "source": [
    "### Gradiente de uma Amostra"
   ]
  },
  {
   "cell_type": "markdown",
   "metadata": {},
   "source": [
    "Vamos inicialmente calcular o gradiente para uma única amostra e depois iremos generalizar para $M$ amostras. O custo para uma amostra é dado por:\n",
    "\n",
    "$$ J = (\\hat{y} - y)^2 = (\\begin{bmatrix} w_0 & w_1 \\end{bmatrix}\\begin{bmatrix} x_0 \\\\ x_1 \\end{bmatrix}  - y)^2\n",
    "     = (\\mathbf{wx} - y)^2$$\n",
    "     \n",
    "$$ J = (w_0 x_0 + w_1 x_1 - y)^2 $$\n",
    "\n",
    "$$ \\frac{\\partial J}{\\partial w_0} = 2 x_0 (w_0 x_0 + w_1 x_1 - y) = 2 x_0 (\\mathbf{wx} - y)$$\n",
    "$$ \\frac{\\partial J}{\\partial w_1} = 2 x_1 (w_0 x_0 + w_1 x_1 - y) = 2 x_1 (\\mathbf{wx} - y)$$\n",
    "\n",
    "$$\\begin{bmatrix} \\frac{\\partial J}{\\partial w_0} & \\frac{\\partial J}{\\partial w_1}\\end{bmatrix} =\n",
    "\\begin{bmatrix} 2 x_0 (\\mathbf{wx} - y) & 2 x_1 (\\mathbf{wx} - y)\\end{bmatrix} = 2(\\mathbf{wx} - y)\\mathbf{x}^T\n",
    "$$\n",
    "\n",
    "Assim, o gradiente para uma amostra é dado por:\n",
    "$$ \\mathbf{\\nabla{J_w}} = 2(\\mathbf{wx} - y)\\mathbf{x}^T $$"
   ]
  },
  {
   "cell_type": "markdown",
   "metadata": {},
   "source": [
    "### Gradiente para $M$ Amostras - Formulação Matricial"
   ]
  },
  {
   "cell_type": "markdown",
   "metadata": {},
   "source": [
    "Vimos anteriormente que quando processamos com várias amostras simultaneamente, utilizamos a matrix $\\mathbf{X}$\n",
    "onde cada linha se refere a uma amostra transposta: ($\\mathbf{x}^T$):\n",
    "\n",
    "$$ \\mathbf{X} = \\begin{bmatrix}\n",
    "\\longleftarrow & (\\mathbf{x}^{(0)})^T & \\longrightarrow \\\\ \n",
    "\\longleftarrow & (\\mathbf{x}^{(1)})^T & \\longrightarrow \\\\ \n",
    "  & \\vdots  & \\\\ \n",
    "\\longleftarrow & (\\mathbf{x}^{(M-1)})^T & \\longrightarrow \n",
    "\\end{bmatrix} = \\begin{bmatrix}\n",
    "x_{0,0} & x_{0,1} \\\\\n",
    "x_{1,0} & x_{1,1} \\\\\n",
    "\\vdots  & \\vdots  \\\\ \n",
    "x_{M,0} & x_{M,1} \\\\\n",
    "\\end{bmatrix} $$\n",
    "\n",
    "Assim, é preciso tirar a transposta da equação do gradiente para uma amostra, trocando o vetor \n",
    "$\\mathbf{x}^T$ por $\\mathbf{X}$ e o escalar $y$ por um vetor $\\mathbf{y}^T$:\n",
    "\n",
    "$$  (\\mathbf{\\nabla{J_w}})^T = \\frac{2}{M}((\\mathbf{wX^T} - \\mathbf{y}^T)\\mathbf{X})^T $$,\n",
    "resultando\n",
    "$$  (\\mathbf{\\nabla{J_w}})^T = \\frac{2}{M}\\mathbf{X}^T(\\mathbf{Xw^T} - \\mathbf{y}) $$"
   ]
  },
  {
   "cell_type": "markdown",
   "metadata": {},
   "source": [
    "Na equação da atualização do $\\mathbf{w}$ a seguir, o fator $\\eta$ é denominado *learning rate*. Ele é um parâmetro de ajuste fundamental para o sucesso da otimização: \n",
    "\n",
    "$$ \\mathbf{w}^T = \\mathbf{w}^T − \\eta (\\mathbf{\\nabla J_w})^T $$\n",
    "\n",
    "Desta forma então, calculando-se o gradiente de $J(\\mathbf{w})$ e substituindo na equação acima temos:\n",
    "\n",
    "$$ \\mathbf{w}^T = \\mathbf{w}^T − \\eta \\frac{2}{M}(\\mathbf{X}^T(\\mathbf{X}\\mathbf{w}^T−\\mathbf{y})) $$\n",
    "\n",
    "Esta equação é implementada dentro da função `gradient_descent`.\n",
    "\n",
    "Observe que cada atualização dos pesos, o cálculo do gradiente leva em conta todas as amostras\n",
    "de dados que estão representados na matriz $\\mathbf{X}$ que possui $M$ linhas (amostras)."
   ]
  },
  {
   "cell_type": "code",
   "execution_count": 4,
   "metadata": {},
   "outputs": [
    {
     "data": {
      "text/html": [
       "<img src=\"images/Gradiente02.png\"/>"
      ],
      "text/plain": [
       "<IPython.core.display.Image object>"
      ]
     },
     "execution_count": 4,
     "metadata": {},
     "output_type": "execute_result"
    }
   ],
   "source": [
    "from IPython.display import Image\n",
    "Image(url = 'images/Gradiente02.png')"
   ]
  },
  {
   "cell_type": "markdown",
   "metadata": {},
   "source": [
    "<div style=\"text-align:justify\">\n",
    "O gradiente descendente é também um bom exemplo porque a escala (padronização) de atributos é importante para muitos algoritmos de aprendizagem de máquina. Não só é mais fácil encontrar uma taxa de aprendizado apropriada se as características estiverem na mesma escala, mas também muitas vezes leva a uma convergência mais rápida e pode impedir que os pesos se tornem muito pequenos (estabilidade numérica).\n",
    "</div>"
   ]
  },
  {
   "cell_type": "markdown",
   "metadata": {},
   "source": [
    "### Dataset"
   ]
  },
  {
   "cell_type": "code",
   "execution_count": 5,
   "metadata": {},
   "outputs": [
    {
     "data": {
      "text/html": [
       "<div>\n",
       "<style scoped>\n",
       "    .dataframe tbody tr th:only-of-type {\n",
       "        vertical-align: middle;\n",
       "    }\n",
       "\n",
       "    .dataframe tbody tr th {\n",
       "        vertical-align: top;\n",
       "    }\n",
       "\n",
       "    .dataframe thead th {\n",
       "        text-align: right;\n",
       "    }\n",
       "</style>\n",
       "<table border=\"1\" class=\"dataframe\">\n",
       "  <thead>\n",
       "    <tr style=\"text-align: right;\">\n",
       "      <th></th>\n",
       "      <th>0</th>\n",
       "      <th>1</th>\n",
       "      <th>2</th>\n",
       "      <th>3</th>\n",
       "      <th>4</th>\n",
       "    </tr>\n",
       "  </thead>\n",
       "  <tbody>\n",
       "    <tr>\n",
       "      <th>0</th>\n",
       "      <td>5.1</td>\n",
       "      <td>3.5</td>\n",
       "      <td>1.4</td>\n",
       "      <td>0.2</td>\n",
       "      <td>Iris-setosa</td>\n",
       "    </tr>\n",
       "    <tr>\n",
       "      <th>1</th>\n",
       "      <td>4.9</td>\n",
       "      <td>3.0</td>\n",
       "      <td>1.4</td>\n",
       "      <td>0.2</td>\n",
       "      <td>Iris-setosa</td>\n",
       "    </tr>\n",
       "    <tr>\n",
       "      <th>2</th>\n",
       "      <td>4.7</td>\n",
       "      <td>3.2</td>\n",
       "      <td>1.3</td>\n",
       "      <td>0.2</td>\n",
       "      <td>Iris-setosa</td>\n",
       "    </tr>\n",
       "    <tr>\n",
       "      <th>3</th>\n",
       "      <td>4.6</td>\n",
       "      <td>3.1</td>\n",
       "      <td>1.5</td>\n",
       "      <td>0.2</td>\n",
       "      <td>Iris-setosa</td>\n",
       "    </tr>\n",
       "    <tr>\n",
       "      <th>4</th>\n",
       "      <td>5.0</td>\n",
       "      <td>3.6</td>\n",
       "      <td>1.4</td>\n",
       "      <td>0.2</td>\n",
       "      <td>Iris-setosa</td>\n",
       "    </tr>\n",
       "  </tbody>\n",
       "</table>\n",
       "</div>"
      ],
      "text/plain": [
       "     0    1    2    3            4\n",
       "0  5.1  3.5  1.4  0.2  Iris-setosa\n",
       "1  4.9  3.0  1.4  0.2  Iris-setosa\n",
       "2  4.7  3.2  1.3  0.2  Iris-setosa\n",
       "3  4.6  3.1  1.5  0.2  Iris-setosa\n",
       "4  5.0  3.6  1.4  0.2  Iris-setosa"
      ]
     },
     "execution_count": 5,
     "metadata": {},
     "output_type": "execute_result"
    }
   ],
   "source": [
    "df = pandas.read_csv('datasets/iris.csv', header = None)\n",
    "df.head()"
   ]
  },
  {
   "cell_type": "markdown",
   "metadata": {},
   "source": [
    "### Normalizando Atributos"
   ]
  },
  {
   "cell_type": "code",
   "execution_count": 6,
   "metadata": {},
   "outputs": [],
   "source": [
    "y = df.iloc[0:100, 4].values\n",
    "y = numpy.where(y == 'Iris-setosa', -1, 1)\n",
    "X = df.iloc[0:100, [0,2]].values\n",
    "\n",
    "X_std = numpy.copy(X)\n",
    "\n",
    "X_std[:,0] = (X[:,0] - X[:,0].min()) / X[:,0].max()\n",
    "X_std[:,1] = (X[:,1] - X[:,1].min()) / X[:,1].max()"
   ]
  },
  {
   "cell_type": "markdown",
   "metadata": {},
   "source": [
    "## Online Learning com Stochastic Gradient Descent"
   ]
  },
  {
   "cell_type": "markdown",
   "metadata": {},
   "source": [
    "<div style=\"text-align:justify\">\n",
    "A seção anterior foi sobre a aprendizagem baseada no gradiente descendente em \"lote\" (batch). As atualizações \"em lote\" referem-se ao fato de que a função de custo é minimizada com base no conjunto completo de dados de treinamento. Se pensarmos na regra do perceptron, lembramos que ela realizou a atualização de peso de forma incremental após cada amostra de treinamento individual. Essa abordagem também é chamada de aprendizagem \"online\", e de fato, é assim que Adaline foi descrita pela primeira vez por Bernard Widrow.\n",
    "</div>"
   ]
  },
  {
   "cell_type": "markdown",
   "metadata": {},
   "source": [
    "<div style=\"text-align:justify\">\n",
    "O processo de atualização incremental dos pesos é também chamado de Stochastic Gradient Descent, uma vez que aproxima a minimização da função de custo. Embora a abordagem da Stochastic Gradient Descent possa soar inferior ao gradiente descendente devido à sua natureza \"estocástica\" e à direção \"aproximada\" (gradiente), pode ter certas vantagens na prática. Muitas vezes, a descida de gradiente estocástica converge muito mais rápido do que a descida de gradiente, uma vez que as atualizações são aplicadas imediatamente após cada amostra de treinamento. A descida de gradiente estocástica é computacionalmente mais eficiente, especialmente para conjuntos de dados muito grandes. Outra vantagem do aprendizado on-line é que o classificador pode ser atualizado imediatamente à medida que novos dados de treinamento chegam, por exemplo, como em aplicativos da Web, e dados de treinamento antigos podem ser descartados se o armazenamento for um problema. Em sistemas de aprendizagem de máquina de grande escala, também é prática comum usar os chamados \"mini-lotes\" (mini-batches), um compromisso com uma convergência mais suave do que a descida de gradiente estocástica.\n",
    "</div>"
   ]
  },
  {
   "cell_type": "code",
   "execution_count": 7,
   "metadata": {},
   "outputs": [],
   "source": [
    "class NeuralNetworkSGD(object):\n",
    "\n",
    "    def __init__(self, eta = 0.01, epochs = 50):\n",
    "        self.eta = eta\n",
    "        self.epochs = epochs\n",
    "\n",
    "    def train(self, X, y, reinitialize_weights = True):\n",
    "\n",
    "        if reinitialize_weights:\n",
    "            self.w_ = numpy.zeros(1 + X.shape[1])\n",
    "            \n",
    "        self.cost_ = []\n",
    "\n",
    "        for i in range(self.epochs):\n",
    "            for xi, target in zip(X, y):\n",
    "                output = self.net_input(xi)\n",
    "                error = (target - output)\n",
    "                self.w_[1:] += self.eta * xi.dot(error)\n",
    "                self.w_[0] += self.eta * error\n",
    "\n",
    "            cost = ((y - self.activation(X))**2).mean() / 2.0\n",
    "            self.cost_.append(cost)\n",
    "        return self\n",
    "\n",
    "    def net_input(self, X):\n",
    "        return numpy.dot(X, self.w_[1:]) + self.w_[0]\n",
    "\n",
    "    def activation(self, X):\n",
    "        return self.net_input(X)\n",
    "\n",
    "    def predict(self, X):\n",
    "        print('Coeficientes: {}'.format(self.w_))\n",
    "        return numpy.where(self.activation(X) >= 0.0, 1, -1)"
   ]
  },
  {
   "cell_type": "markdown",
   "metadata": {},
   "source": [
    "### Modelo Adaline"
   ]
  },
  {
   "cell_type": "code",
   "execution_count": 8,
   "metadata": {},
   "outputs": [
    {
     "name": "stdout",
     "output_type": "stream",
     "text": [
      "Coeficientes: [-0.96843551  0.46642896  2.51896439]\n"
     ]
    },
    {
     "data": {
      "image/png": "[encoded data removed]",
      "text/plain": [
       "<Figure size 1080x504 with 1 Axes>"
      ]
     },
     "metadata": {
      "needs_background": "light"
     },
     "output_type": "display_data"
    },
    {
     "data": {
      "image/png": "[encoded data removed]",
      "text/plain": [
       "<Figure size 1080x504 with 1 Axes>"
      ]
     },
     "metadata": {
      "needs_background": "light"
     },
     "output_type": "display_data"
    }
   ],
   "source": [
    "# Modelo\n",
    "nn_sgd = NeuralNetworkSGD(epochs = 20, eta = 0.01)\n",
    "\n",
    "# Dados randômicos\n",
    "numpy.random.seed(123)\n",
    "idx = numpy.random.permutation(len(y))\n",
    "X_shuffled, y_shuffled =  X_std[idx], y[idx]\n",
    "\n",
    "# Treinamento e Plot\n",
    "nn_sgd.train(X_shuffled, y_shuffled)\n",
    "plot_decision_regions(X_shuffled, y_shuffled, clf=nn_sgd)\n",
    "plt.title('Neural Network - Gradient Descent')\n",
    "plt.xlabel('sepal length [padronizado]')\n",
    "plt.ylabel('petal length [padronizado]')\n",
    "plt.show()\n",
    "\n",
    "plt.plot(range(1, len(nn_sgd.cost_) + 1), nn_sgd.cost_, marker = 'o')\n",
    "plt.xlabel('Iterações')\n",
    "plt.ylabel('Sum Squared Error')\n",
    "plt.show()"
   ]
  }
 ],
 "metadata": {
  "anaconda-cloud": {},
  "kernelspec": {
   "display_name": "Python 3",
   "language": "python",
   "name": "python3"
  },
  "language_info": {
   "codemirror_mode": {
    "name": "ipython",
    "version": 3
   },
   "file_extension": ".py",
   "mimetype": "text/x-python",
   "name": "python",
   "nbconvert_exporter": "python",
   "pygments_lexer": "ipython3",
   "version": "3.8.5"
  }
 },
 "nbformat": 4,
 "nbformat_minor": 1
}
